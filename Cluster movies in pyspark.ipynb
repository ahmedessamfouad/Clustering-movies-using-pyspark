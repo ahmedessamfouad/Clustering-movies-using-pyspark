{
 "cells": [
  {
   "cell_type": "code",
   "execution_count": 1,
   "id": "14319744",
   "metadata": {},
   "outputs": [],
   "source": [
    "import findspark"
   ]
  },
  {
   "cell_type": "code",
   "execution_count": 2,
   "id": "a66f6abc",
   "metadata": {},
   "outputs": [],
   "source": [
    "findspark.init()"
   ]
  },
  {
   "cell_type": "code",
   "execution_count": 3,
   "id": "380966cc",
   "metadata": {},
   "outputs": [
    {
     "name": "stderr",
     "output_type": "stream",
     "text": [
      "C:\\Users\\ro2a\\anaconda3\\lib\\site-packages\\scipy\\__init__.py:146: UserWarning: A NumPy version >=1.16.5 and <1.23.0 is required for this version of SciPy (detected version 1.23.5\n",
      "  warnings.warn(f\"A NumPy version >={np_minversion} and <{np_maxversion}\"\n"
     ]
    }
   ],
   "source": [
    "import pyspark\n",
    "from pyspark.sql import SparkSession\n",
    "from pyspark.sql.functions import split, lower, explode, instr,col, when, contains\n",
    "from pyspark.ml.feature import VectorAssembler\n",
    "from pyspark.ml.clustering import KMeans\n",
    "from pyspark.ml.evaluation import ClusteringEvaluator\n",
    "import warnings\n",
    "warnings.filterwarnings('ignore')"
   ]
  },
  {
   "cell_type": "code",
   "execution_count": 4,
   "id": "61128ce4",
   "metadata": {},
   "outputs": [],
   "source": [
    "# Create a SparkSession\n",
    "spark = SparkSession.builder \\\n",
    "    .appName(\"Movielens Data Wrangling\") \\\n",
    "    .getOrCreate()\n"
   ]
  },
  {
   "cell_type": "code",
   "execution_count": 5,
   "id": "6310c652",
   "metadata": {},
   "outputs": [],
   "source": [
    "# Read CSV file into DataFrame\n",
    "df = spark.read.csv(\"ml-25m\\movies.csv\", header=True, inferSchema=True)"
   ]
  },
  {
   "cell_type": "code",
   "execution_count": 6,
   "id": "0b259dc4",
   "metadata": {},
   "outputs": [
    {
     "data": {
      "text/plain": [
       "['movieId', 'title', 'genres']"
      ]
     },
     "execution_count": 6,
     "metadata": {},
     "output_type": "execute_result"
    }
   ],
   "source": [
    "df.columns"
   ]
  },
  {
   "cell_type": "code",
   "execution_count": 7,
   "id": "3fd85d4e",
   "metadata": {},
   "outputs": [
    {
     "data": {
      "text/plain": [
       "62423"
      ]
     },
     "execution_count": 7,
     "metadata": {},
     "output_type": "execute_result"
    }
   ],
   "source": [
    "df.count() # Returns the number of rows in this DataFrame."
   ]
  },
  {
   "cell_type": "code",
   "execution_count": 8,
   "id": "7845356c",
   "metadata": {},
   "outputs": [
    {
     "name": "stdout",
     "output_type": "stream",
     "text": [
      "root\n",
      " |-- movieId: integer (nullable = true)\n",
      " |-- title: string (nullable = true)\n",
      " |-- genres: string (nullable = true)\n",
      "\n"
     ]
    }
   ],
   "source": [
    "# Show the DataFrame schema\n",
    "df.printSchema()"
   ]
  },
  {
   "cell_type": "code",
   "execution_count": 9,
   "id": "814e07b2",
   "metadata": {},
   "outputs": [
    {
     "name": "stdout",
     "output_type": "stream",
     "text": [
      "+-------+--------------------+--------------------+\n",
      "|movieId|               title|              genres|\n",
      "+-------+--------------------+--------------------+\n",
      "|      1|    Toy Story (1995)|Adventure|Animati...|\n",
      "|      2|      Jumanji (1995)|Adventure|Childre...|\n",
      "|      3|Grumpier Old Men ...|      Comedy|Romance|\n",
      "+-------+--------------------+--------------------+\n",
      "only showing top 3 rows\n",
      "\n"
     ]
    }
   ],
   "source": [
    "# Show the first three rows of the DataFrame\n",
    "df.show(3)"
   ]
  },
  {
   "cell_type": "code",
   "execution_count": 10,
   "id": "62e353cf",
   "metadata": {},
   "outputs": [
    {
     "data": {
      "text/plain": [
       "['Adventure|Animation|Children|Comedy|Fantasy',\n",
       " 'Adventure|Children|Fantasy',\n",
       " 'Comedy|Romance',\n",
       " 'Comedy|Drama|Romance',\n",
       " 'Comedy',\n",
       " 'Action|Crime|Thriller',\n",
       " 'Comedy|Romance',\n",
       " 'Adventure|Children',\n",
       " 'Action',\n",
       " 'Action|Adventure|Thriller']"
      ]
     },
     "execution_count": 10,
     "metadata": {},
     "output_type": "execute_result"
    }
   ],
   "source": [
    "genres_values = df.select(\"genres\").rdd.flatMap(lambda x: x).collect()\n",
    "genres_values[:10]"
   ]
  },
  {
   "cell_type": "code",
   "execution_count": 11,
   "id": "1307534e",
   "metadata": {},
   "outputs": [],
   "source": [
    "def split_column_and_add(df, col_name):\n",
    "    # Split the column by '|' and create a new column\n",
    "    df_1 = df.withColumn(\"genres_lr_arr\", split(lower(df[col_name]), \"\\|\"))\n",
    "    return df_1"
   ]
  },
  {
   "cell_type": "code",
   "execution_count": 12,
   "id": "d6bf8568",
   "metadata": {},
   "outputs": [],
   "source": [
    "df_1 = split_column_and_add(df, \"genres\")"
   ]
  },
  {
   "cell_type": "code",
   "execution_count": 13,
   "id": "1bcf29c1",
   "metadata": {},
   "outputs": [
    {
     "name": "stdout",
     "output_type": "stream",
     "text": [
      "+-------------------------------------------------+\n",
      "|genres_lr_arr                                    |\n",
      "+-------------------------------------------------+\n",
      "|[adventure, animation, children, comedy, fantasy]|\n",
      "|[adventure, children, fantasy]                   |\n",
      "|[comedy, romance]                                |\n",
      "|[comedy, drama, romance]                         |\n",
      "|[comedy]                                         |\n",
      "+-------------------------------------------------+\n",
      "only showing top 5 rows\n",
      "\n"
     ]
    }
   ],
   "source": [
    "df_1.select(\"genres_lr_arr\").show(5,truncate=False)"
   ]
  },
  {
   "cell_type": "code",
   "execution_count": 14,
   "id": "ecf21ef2",
   "metadata": {},
   "outputs": [],
   "source": [
    "all_words = df_1.select(explode(\"genres_lr_arr\").alias(\"word\"))"
   ]
  },
  {
   "cell_type": "code",
   "execution_count": 15,
   "id": "d1e71aa5",
   "metadata": {},
   "outputs": [
    {
     "name": "stdout",
     "output_type": "stream",
     "text": [
      "+---------+\n",
      "|     word|\n",
      "+---------+\n",
      "|adventure|\n",
      "|animation|\n",
      "| children|\n",
      "|   comedy|\n",
      "|  fantasy|\n",
      "+---------+\n",
      "only showing top 5 rows\n",
      "\n"
     ]
    },
    {
     "data": {
      "text/plain": [
       "112307"
      ]
     },
     "execution_count": 15,
     "metadata": {},
     "output_type": "execute_result"
    }
   ],
   "source": [
    "all_words.show(5)\n",
    "all_words.count()"
   ]
  },
  {
   "cell_type": "code",
   "execution_count": 16,
   "id": "e890b00d",
   "metadata": {},
   "outputs": [],
   "source": [
    "distinct_words = all_words.select(\"word\").distinct()"
   ]
  },
  {
   "cell_type": "code",
   "execution_count": 17,
   "id": "19f108eb",
   "metadata": {},
   "outputs": [
    {
     "name": "stdout",
     "output_type": "stream",
     "text": [
      "+------------------+\n",
      "|              word|\n",
      "+------------------+\n",
      "|             crime|\n",
      "|              imax|\n",
      "|           fantasy|\n",
      "|       documentary|\n",
      "|            action|\n",
      "|         animation|\n",
      "|           mystery|\n",
      "|            horror|\n",
      "|         film-noir|\n",
      "|           musical|\n",
      "|         adventure|\n",
      "|             drama|\n",
      "|(no genres listed)|\n",
      "|           western|\n",
      "|          children|\n",
      "|               war|\n",
      "|           romance|\n",
      "|          thriller|\n",
      "|            sci-fi|\n",
      "|            comedy|\n",
      "+------------------+\n",
      "\n"
     ]
    }
   ],
   "source": [
    "distinct_words.show()"
   ]
  },
  {
   "cell_type": "code",
   "execution_count": 18,
   "id": "ce2532b3",
   "metadata": {},
   "outputs": [
    {
     "data": {
      "text/plain": [
       "20"
      ]
     },
     "execution_count": 18,
     "metadata": {},
     "output_type": "execute_result"
    }
   ],
   "source": [
    "distinct_words.count()"
   ]
  },
  {
   "cell_type": "code",
   "execution_count": 19,
   "id": "4a603dc9",
   "metadata": {},
   "outputs": [
    {
     "name": "stdout",
     "output_type": "stream",
     "text": [
      "+--------------------+----------------+\n",
      "|              genres|genres_adventure|\n",
      "+--------------------+----------------+\n",
      "|Adventure|Animati...|               1|\n",
      "|Adventure|Childre...|               1|\n",
      "|      Comedy|Romance|               0|\n",
      "|Comedy|Drama|Romance|               0|\n",
      "|              Comedy|               0|\n",
      "|Action|Crime|Thri...|               0|\n",
      "|      Comedy|Romance|               0|\n",
      "|  Adventure|Children|               1|\n",
      "|              Action|               0|\n",
      "|Action|Adventure|...|               8|\n",
      "|Comedy|Drama|Romance|               0|\n",
      "|       Comedy|Horror|               0|\n",
      "|Adventure|Animati...|               1|\n",
      "|               Drama|               0|\n",
      "|Action|Adventure|...|               8|\n",
      "|         Crime|Drama|               0|\n",
      "|       Drama|Romance|               0|\n",
      "|              Comedy|               0|\n",
      "|              Comedy|               0|\n",
      "|Action|Comedy|Cri...|               0|\n",
      "+--------------------+----------------+\n",
      "only showing top 20 rows\n",
      "\n"
     ]
    }
   ],
   "source": [
    "category = \"adventure\"\n",
    "df_1.withColumn(\"genres_\" + category, instr(lower(col(\"genres\")), category)).select(\"genres\", \"genres_adventure\").show()"
   ]
  },
  {
   "cell_type": "code",
   "execution_count": 20,
   "id": "77cf1b3b",
   "metadata": {},
   "outputs": [
    {
     "name": "stdout",
     "output_type": "stream",
     "text": [
      "+--------------------+----------------+\n",
      "|              genres|genres_adventure|\n",
      "+--------------------+----------------+\n",
      "|Adventure|Animati...|               1|\n",
      "|Adventure|Childre...|               1|\n",
      "|      Comedy|Romance|               0|\n",
      "|Comedy|Drama|Romance|               0|\n",
      "|              Comedy|               0|\n",
      "|Action|Crime|Thri...|               0|\n",
      "|      Comedy|Romance|               0|\n",
      "|  Adventure|Children|               1|\n",
      "|              Action|               0|\n",
      "|Action|Adventure|...|               1|\n",
      "|Comedy|Drama|Romance|               0|\n",
      "|       Comedy|Horror|               0|\n",
      "|Adventure|Animati...|               1|\n",
      "|               Drama|               0|\n",
      "|Action|Adventure|...|               1|\n",
      "|         Crime|Drama|               0|\n",
      "|       Drama|Romance|               0|\n",
      "|              Comedy|               0|\n",
      "|              Comedy|               0|\n",
      "|Action|Comedy|Cri...|               0|\n",
      "+--------------------+----------------+\n",
      "only showing top 20 rows\n",
      "\n"
     ]
    }
   ],
   "source": [
    "df_1.withColumn(\"genres_\" + category, \n",
    "                       when(instr(lower(col(\"genres\")), category) == 0, 0).otherwise(1)) \\\n",
    "           .select(\"genres\", \"genres_\" + category).show()"
   ]
  },
  {
   "cell_type": "code",
   "execution_count": 21,
   "id": "74931cd5",
   "metadata": {},
   "outputs": [],
   "source": [
    "categories = [\"crime\", \"imax\", \"fantasy\", \"documentary\", \"action\", \"animation\", \"mystery\", \n",
    "              \"horror\", \"film-noir\", \"musical\", \"adventure\", \"drama\", \n",
    "              \"western\", \"children\", \"war\", \"romance\", \"thriller\", \"sci-fi\", \"comedy\"]\n"
   ]
  },
  {
   "cell_type": "code",
   "execution_count": 22,
   "id": "a7f977dc",
   "metadata": {},
   "outputs": [],
   "source": [
    "oneHotDF = df_1\n",
    "for category in categories:\n",
    "    oneHotDF = oneHotDF.withColumn(\"genres_\" + category, \n",
    "                                   when(instr(lower(col(\"genres\")), category) == 0, 0).otherwise(1))"
   ]
  },
  {
   "cell_type": "code",
   "execution_count": 23,
   "id": "a11eee18",
   "metadata": {},
   "outputs": [
    {
     "name": "stdout",
     "output_type": "stream",
     "text": [
      "+-------+----------------+--------------------+--------------------+------------+-----------+--------------+------------------+-------------+----------------+--------------+-------------+----------------+--------------+----------------+------------+--------------+---------------+----------+--------------+---------------+-------------+-------------+\n",
      "|movieId|           title|              genres|       genres_lr_arr|genres_crime|genres_imax|genres_fantasy|genres_documentary|genres_action|genres_animation|genres_mystery|genres_horror|genres_film-noir|genres_musical|genres_adventure|genres_drama|genres_western|genres_children|genres_war|genres_romance|genres_thriller|genres_sci-fi|genres_comedy|\n",
      "+-------+----------------+--------------------+--------------------+------------+-----------+--------------+------------------+-------------+----------------+--------------+-------------+----------------+--------------+----------------+------------+--------------+---------------+----------+--------------+---------------+-------------+-------------+\n",
      "|      1|Toy Story (1995)|Adventure|Animati...|[adventure, anima...|           0|          0|             1|                 0|            0|               1|             0|            0|               0|             0|               1|           0|             0|              1|         0|             0|              0|            0|            1|\n",
      "+-------+----------------+--------------------+--------------------+------------+-----------+--------------+------------------+-------------+----------------+--------------+-------------+----------------+--------------+----------------+------------+--------------+---------------+----------+--------------+---------------+-------------+-------------+\n",
      "only showing top 1 row\n",
      "\n"
     ]
    }
   ],
   "source": [
    "oneHotDF.show(1)"
   ]
  },
  {
   "cell_type": "code",
   "execution_count": 24,
   "id": "7f8d9fc1",
   "metadata": {},
   "outputs": [
    {
     "name": "stdout",
     "output_type": "stream",
     "text": [
      "root\n",
      " |-- movieId: integer (nullable = true)\n",
      " |-- title: string (nullable = true)\n",
      " |-- genres: string (nullable = true)\n",
      " |-- genres_lr_arr: array (nullable = true)\n",
      " |    |-- element: string (containsNull = false)\n",
      " |-- genres_crime: integer (nullable = false)\n",
      " |-- genres_imax: integer (nullable = false)\n",
      " |-- genres_fantasy: integer (nullable = false)\n",
      " |-- genres_documentary: integer (nullable = false)\n",
      " |-- genres_action: integer (nullable = false)\n",
      " |-- genres_animation: integer (nullable = false)\n",
      " |-- genres_mystery: integer (nullable = false)\n",
      " |-- genres_horror: integer (nullable = false)\n",
      " |-- genres_film-noir: integer (nullable = false)\n",
      " |-- genres_musical: integer (nullable = false)\n",
      " |-- genres_adventure: integer (nullable = false)\n",
      " |-- genres_drama: integer (nullable = false)\n",
      " |-- genres_western: integer (nullable = false)\n",
      " |-- genres_children: integer (nullable = false)\n",
      " |-- genres_war: integer (nullable = false)\n",
      " |-- genres_romance: integer (nullable = false)\n",
      " |-- genres_thriller: integer (nullable = false)\n",
      " |-- genres_sci-fi: integer (nullable = false)\n",
      " |-- genres_comedy: integer (nullable = false)\n",
      "\n"
     ]
    }
   ],
   "source": [
    "oneHotDF.printSchema()"
   ]
  },
  {
   "cell_type": "code",
   "execution_count": 25,
   "id": "425165e2",
   "metadata": {},
   "outputs": [],
   "source": [
    "featurecols = oneHotDF.select(\n",
    "    *filter(lambda col: col.startswith(\"genres_\") and col != \"genres_lr_arr\", oneHotDF.columns)\n",
    ")"
   ]
  },
  {
   "cell_type": "code",
   "execution_count": 26,
   "id": "7d08743e",
   "metadata": {},
   "outputs": [
    {
     "name": "stdout",
     "output_type": "stream",
     "text": [
      "root\n",
      " |-- genres_crime: integer (nullable = false)\n",
      " |-- genres_imax: integer (nullable = false)\n",
      " |-- genres_fantasy: integer (nullable = false)\n",
      " |-- genres_documentary: integer (nullable = false)\n",
      " |-- genres_action: integer (nullable = false)\n",
      " |-- genres_animation: integer (nullable = false)\n",
      " |-- genres_mystery: integer (nullable = false)\n",
      " |-- genres_horror: integer (nullable = false)\n",
      " |-- genres_film-noir: integer (nullable = false)\n",
      " |-- genres_musical: integer (nullable = false)\n",
      " |-- genres_adventure: integer (nullable = false)\n",
      " |-- genres_drama: integer (nullable = false)\n",
      " |-- genres_western: integer (nullable = false)\n",
      " |-- genres_children: integer (nullable = false)\n",
      " |-- genres_war: integer (nullable = false)\n",
      " |-- genres_romance: integer (nullable = false)\n",
      " |-- genres_thriller: integer (nullable = false)\n",
      " |-- genres_sci-fi: integer (nullable = false)\n",
      " |-- genres_comedy: integer (nullable = false)\n",
      "\n"
     ]
    }
   ],
   "source": [
    "featurecols.printSchema()"
   ]
  },
  {
   "cell_type": "code",
   "execution_count": 27,
   "id": "aa82de74",
   "metadata": {},
   "outputs": [
    {
     "data": {
      "text/plain": [
       "19"
      ]
     },
     "execution_count": 27,
     "metadata": {},
     "output_type": "execute_result"
    }
   ],
   "source": [
    "len(featurecols.columns)"
   ]
  },
  {
   "cell_type": "code",
   "execution_count": 28,
   "id": "c32e76a7",
   "metadata": {},
   "outputs": [],
   "source": [
    "# Assuming you have a DataFrame named oneHotDF\n",
    "featurecols = list(filter(lambda col: col.startswith(\"genres_\") and col != \"genres_lr_arr\", oneHotDF.columns))\n",
    "\n",
    "# Create a VectorAssembler\n",
    "assembler = VectorAssembler(inputCols=featurecols, outputCol=\"features\")"
   ]
  },
  {
   "cell_type": "code",
   "execution_count": 29,
   "id": "24239cd5",
   "metadata": {},
   "outputs": [
    {
     "name": "stdout",
     "output_type": "stream",
     "text": [
      "+-------+--------------------+--------------------+--------------------+------------+-----------+--------------+------------------+-------------+----------------+--------------+-------------+----------------+--------------+----------------+------------+--------------+---------------+----------+--------------+---------------+-------------+-------------+--------------------+\n",
      "|movieId|               title|              genres|       genres_lr_arr|genres_crime|genres_imax|genres_fantasy|genres_documentary|genres_action|genres_animation|genres_mystery|genres_horror|genres_film-noir|genres_musical|genres_adventure|genres_drama|genres_western|genres_children|genres_war|genres_romance|genres_thriller|genres_sci-fi|genres_comedy|            features|\n",
      "+-------+--------------------+--------------------+--------------------+------------+-----------+--------------+------------------+-------------+----------------+--------------+-------------+----------------+--------------+----------------+------------+--------------+---------------+----------+--------------+---------------+-------------+-------------+--------------------+\n",
      "|      1|    Toy Story (1995)|Adventure|Animati...|[adventure, anima...|           0|          0|             1|                 0|            0|               1|             0|            0|               0|             0|               1|           0|             0|              1|         0|             0|              0|            0|            1|(19,[2,5,10,13,18...|\n",
      "|      2|      Jumanji (1995)|Adventure|Childre...|[adventure, child...|           0|          0|             1|                 0|            0|               0|             0|            0|               0|             0|               1|           0|             0|              1|         0|             0|              0|            0|            0|(19,[2,10,13],[1....|\n",
      "|      3|Grumpier Old Men ...|      Comedy|Romance|   [comedy, romance]|           0|          0|             0|                 0|            0|               0|             0|            0|               0|             0|               0|           0|             0|              0|         0|             1|              0|            0|            1|(19,[15,18],[1.0,...|\n",
      "|      4|Waiting to Exhale...|Comedy|Drama|Romance|[comedy, drama, r...|           0|          0|             0|                 0|            0|               0|             0|            0|               0|             0|               0|           1|             0|              0|         0|             1|              0|            0|            1|(19,[11,15,18],[1...|\n",
      "|      5|Father of the Bri...|              Comedy|            [comedy]|           0|          0|             0|                 0|            0|               0|             0|            0|               0|             0|               0|           0|             0|              0|         0|             0|              0|            0|            1|     (19,[18],[1.0])|\n",
      "|      6|         Heat (1995)|Action|Crime|Thri...|[action, crime, t...|           1|          0|             0|                 0|            1|               0|             0|            0|               0|             0|               0|           0|             0|              0|         0|             0|              1|            0|            0|(19,[0,4,16],[1.0...|\n",
      "|      7|      Sabrina (1995)|      Comedy|Romance|   [comedy, romance]|           0|          0|             0|                 0|            0|               0|             0|            0|               0|             0|               0|           0|             0|              0|         0|             1|              0|            0|            1|(19,[15,18],[1.0,...|\n",
      "|      8| Tom and Huck (1995)|  Adventure|Children|[adventure, child...|           0|          0|             0|                 0|            0|               0|             0|            0|               0|             0|               1|           0|             0|              1|         0|             0|              0|            0|            0|(19,[10,13],[1.0,...|\n",
      "|      9| Sudden Death (1995)|              Action|            [action]|           0|          0|             0|                 0|            1|               0|             0|            0|               0|             0|               0|           0|             0|              0|         0|             0|              0|            0|            0|      (19,[4],[1.0])|\n",
      "|     10|    GoldenEye (1995)|Action|Adventure|...|[action, adventur...|           0|          0|             0|                 0|            1|               0|             0|            0|               0|             0|               1|           0|             0|              0|         0|             0|              1|            0|            0|(19,[4,10,16],[1....|\n",
      "|     11|American Presiden...|Comedy|Drama|Romance|[comedy, drama, r...|           0|          0|             0|                 0|            0|               0|             0|            0|               0|             0|               0|           1|             0|              0|         0|             1|              0|            0|            1|(19,[11,15,18],[1...|\n",
      "|     12|Dracula: Dead and...|       Comedy|Horror|    [comedy, horror]|           0|          0|             0|                 0|            0|               0|             0|            1|               0|             0|               0|           0|             0|              0|         0|             0|              0|            0|            1|(19,[7,18],[1.0,1...|\n",
      "|     13|        Balto (1995)|Adventure|Animati...|[adventure, anima...|           0|          0|             0|                 0|            0|               1|             0|            0|               0|             0|               1|           0|             0|              1|         0|             0|              0|            0|            0|(19,[5,10,13],[1....|\n",
      "|     14|        Nixon (1995)|               Drama|             [drama]|           0|          0|             0|                 0|            0|               0|             0|            0|               0|             0|               0|           1|             0|              0|         0|             0|              0|            0|            0|     (19,[11],[1.0])|\n",
      "|     15|Cutthroat Island ...|Action|Adventure|...|[action, adventur...|           0|          0|             0|                 0|            1|               0|             0|            0|               0|             0|               1|           0|             0|              0|         0|             1|              0|            0|            0|(19,[4,10,15],[1....|\n",
      "|     16|       Casino (1995)|         Crime|Drama|      [crime, drama]|           1|          0|             0|                 0|            0|               0|             0|            0|               0|             0|               0|           1|             0|              0|         0|             0|              0|            0|            0|(19,[0,11],[1.0,1...|\n",
      "|     17|Sense and Sensibi...|       Drama|Romance|    [drama, romance]|           0|          0|             0|                 0|            0|               0|             0|            0|               0|             0|               0|           1|             0|              0|         0|             1|              0|            0|            0|(19,[11,15],[1.0,...|\n",
      "|     18|   Four Rooms (1995)|              Comedy|            [comedy]|           0|          0|             0|                 0|            0|               0|             0|            0|               0|             0|               0|           0|             0|              0|         0|             0|              0|            0|            1|     (19,[18],[1.0])|\n",
      "|     19|Ace Ventura: When...|              Comedy|            [comedy]|           0|          0|             0|                 0|            0|               0|             0|            0|               0|             0|               0|           0|             0|              0|         0|             0|              0|            0|            1|     (19,[18],[1.0])|\n",
      "|     20|  Money Train (1995)|Action|Comedy|Cri...|[action, comedy, ...|           1|          0|             0|                 0|            1|               0|             0|            0|               0|             0|               0|           1|             0|              0|         0|             0|              1|            0|            1|(19,[0,4,11,16,18...|\n",
      "+-------+--------------------+--------------------+--------------------+------------+-----------+--------------+------------------+-------------+----------------+--------------+-------------+----------------+--------------+----------------+------------+--------------+---------------+----------+--------------+---------------+-------------+-------------+--------------------+\n",
      "only showing top 20 rows\n",
      "\n"
     ]
    }
   ],
   "source": [
    "dataset = assembler.transform(oneHotDF)\n",
    "dataset.show()"
   ]
  },
  {
   "cell_type": "code",
   "execution_count": 30,
   "id": "dc4c3f61",
   "metadata": {},
   "outputs": [],
   "source": [
    "# Define the number of clusters\n",
    "k = 5\n",
    "# Optionally, set a random seed for reproducibility\n",
    "seed = 42\n",
    "# Create KMeans instance\n",
    "kmeans = KMeans().setK(k).setSeed(seed)\n",
    "# Train the model\n",
    "model = kmeans.fit(dataset)\n",
    "# Make predictions\n",
    "predictions = model.transform(dataset)"
   ]
  },
  {
   "cell_type": "code",
   "execution_count": 31,
   "id": "e1cc752b",
   "metadata": {},
   "outputs": [
    {
     "name": "stdout",
     "output_type": "stream",
     "text": [
      "Silhouette with squared euclidean distance = 0.3333159398549893\n"
     ]
    }
   ],
   "source": [
    "# Evaluate clustering by computing Silhouette score The score ranges from -1 to 1, where a high value indicates that the object is well matched to its own cluster and poorly matched to neighboring clusters.\n",
    "evaluator = ClusteringEvaluator()\n",
    "silhouette = evaluator.evaluate(predictions)\n",
    "print(\"Silhouette with squared euclidean distance = \" + str(silhouette))"
   ]
  },
  {
   "cell_type": "code",
   "execution_count": 32,
   "id": "0ace47d4",
   "metadata": {},
   "outputs": [
    {
     "name": "stdout",
     "output_type": "stream",
     "text": [
      "Cluster Centers: \n",
      "[0.03162055 0.00240591 0.06306926 0.00601478 0.08455061 0.01185771\n",
      " 0.13163774 0.99518818 0.00103111 0.00360887 0.02302801 0.1345592\n",
      " 0.00584293 0.00343702 0.00498367 0.01666953 0.36707338 0.16343014\n",
      " 0.12648221]\n",
      "[0.65772707 0.0044451  0.01022374 0.00340791 0.54482146 0.00963106\n",
      " 0.11853608 0.01748407 0.02993036 0.00266706 0.08001185 0.63668692\n",
      " 0.01644688 0.00385242 0.04237665 0.03333827 0.48125648 0.05126685\n",
      " 0.09038376]\n",
      "[0.0177252  0.00157468 0.01744256 0.21447894 0.06137199 0.04211249\n",
      " 0.02325675 0.         0.00145355 0.02176283 0.00189769 0.\n",
      " 0.03734808 0.00076715 0.01562563 0.10324222 0.06153349 0.04380829\n",
      " 0.38741067]\n",
      "[1.81128896e-02 2.02190396e-02 2.80117944e-01 3.15922494e-03\n",
      " 2.91912384e-01 3.31718618e-01 2.80117944e-02 5.89721988e-03\n",
      " 4.21229992e-04 3.32771693e-02 5.96461668e-01 3.91743892e-02\n",
      " 2.71693345e-02 4.90311710e-01 2.10614996e-02 7.39258635e-02\n",
      " 3.09604044e-02 1.65543387e-01 3.56781803e-01]\n",
      "[8.40707965e-03 7.86627335e-04 2.62045231e-02 1.08161259e-02\n",
      " 1.34218289e-02 8.70206490e-03 3.19567355e-02 2.55653884e-03\n",
      " 5.26057030e-03 1.56342183e-02 2.91052114e-02 1.00000000e+00\n",
      " 9.83284169e-03 2.66470010e-02 5.27040315e-02 2.20698132e-01\n",
      " 7.86135693e-02 2.09931170e-02 2.08210423e-01]\n"
     ]
    }
   ],
   "source": [
    "# Shows the result\n",
    "centers = model.clusterCenters()\n",
    "print(\"Cluster Centers: \")\n",
    "for center in centers:\n",
    "    print(center)"
   ]
  }
 ],
 "metadata": {
  "kernelspec": {
   "display_name": "Python 3 (ipykernel)",
   "language": "python",
   "name": "python3"
  },
  "language_info": {
   "codemirror_mode": {
    "name": "ipython",
    "version": 3
   },
   "file_extension": ".py",
   "mimetype": "text/x-python",
   "name": "python",
   "nbconvert_exporter": "python",
   "pygments_lexer": "ipython3",
   "version": "3.9.12"
  }
 },
 "nbformat": 4,
 "nbformat_minor": 5
}
